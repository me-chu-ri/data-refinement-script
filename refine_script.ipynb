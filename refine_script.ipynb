{
 "cells": [
  {
   "cell_type": "markdown",
   "source": [
    "# Introduction\n",
    "We are using a menu dataset from [AI Hub](https://aihub.or.kr/aihubdata/data/view.do?currMenu=115&topMenu=100&aihubDataSe=data&dataSetSn=242).\n",
    "This dataset, originally intended for training vision models, includes a large number of labeled images and an organized Excel file (.xlsx) containing nutrient and category information.\n",
    "However, we only need the menu labels and their corresponding nutrients from this organized file.\n",
    "\n",
    "The dataset includes around 50,000 different kinds of detailed food data.\n",
    "Among these, there are duplicates and some unusable entries, such as ingredients or overly detailed food items.\n",
    "The following script has been created to refine and clean this food data.\n",
    "\n",
    "> If you need the original dataset, refer this site. [AI hub](https://aihub.or.kr/aihubdata/data/view.do?currMenu=115&topMenu=100&aihubDataSe=data&dataSetSn=242)\n",
    "\n",
    "\n",
    "## Refinement\n",
    "### Fields we use\n",
    "- Id\n",
    "- Name\n",
    "- Categories\n",
    "- Carbohydrates\n",
    "- Protein\n",
    "- Fat\n",
    "- Sugar\n",
    "- Sodium (NaCl)\n",
    "- Total energy\n",
    "\n",
    "### Data folder structure\n",
    "- root\n",
    "    - datas\n",
    "        - raw\n",
    "            - raw_menu_nutrient.xlsx\n",
    "        - refined\n",
    "            - refined.xlsx"
   ],
   "metadata": {
    "collapsed": false
   },
   "id": "f08ee44482a302da"
  },
  {
   "cell_type": "markdown",
   "source": [
    "# imports"
   ],
   "metadata": {
    "collapsed": false
   },
   "id": "d2381e414515e5b9"
  },
  {
   "cell_type": "code",
   "execution_count": 1,
   "id": "initial_id",
   "metadata": {
    "collapsed": true,
    "ExecuteTime": {
     "end_time": "2024-05-31T18:29:26.833239Z",
     "start_time": "2024-05-31T18:29:26.167198Z"
    }
   },
   "outputs": [],
   "source": [
    "import pandas as pd\n",
    "from pandas import DataFrame"
   ]
  },
  {
   "cell_type": "markdown",
   "source": [
    "# Load dataset"
   ],
   "metadata": {
    "collapsed": false
   },
   "id": "17c6acd4ccd998dd"
  },
  {
   "cell_type": "code",
   "outputs": [],
   "source": [
    "raw_datas: DataFrame = pd.read_excel('./datas/raw/raw_menu_nutrient.xlsx', engine='openpyxl', sheet_name=1)"
   ],
   "metadata": {
    "collapsed": false,
    "ExecuteTime": {
     "end_time": "2024-05-31T18:34:06.120517Z",
     "start_time": "2024-05-31T18:29:26.836352Z"
    }
   },
   "id": "e73c9bfaffabf0e6",
   "execution_count": 2
  },
  {
   "cell_type": "markdown",
   "source": [
    "# Extract DataFrame"
   ],
   "metadata": {
    "collapsed": false
   },
   "id": "88830e56747251d2"
  },
  {
   "cell_type": "code",
   "outputs": [],
   "source": [
    "raw_df: DataFrame = raw_datas.copy()"
   ],
   "metadata": {
    "collapsed": false,
    "ExecuteTime": {
     "end_time": "2024-05-31T18:34:06.171797Z",
     "start_time": "2024-05-31T18:34:06.124157Z"
    }
   },
   "id": "3345bf023adeebd6",
   "execution_count": 3
  },
  {
   "cell_type": "code",
   "outputs": [
    {
     "data": {
      "text/plain": "                  Unnamed: 0      Unnamed: 1 Unnamed: 2  \\\n0  최종 DB 업데이트 일 : 2021-03-10             NaN        NaN   \n1                        NaN             NaN        NaN   \n2                         NO       SAMPLE_ID       식품코드   \n3                          1  D000006-94-AVG    D000006   \n4                          2  D000007-ZZ-AVG    D000007   \n\n                                          Unnamed: 3 Unnamed: 4 Unnamed: 5  \\\n0  ● 이 파일은 통계용으로 사용하기 위한 것으로, 기존 \"-\"값이 \"0\"으로 변환된 ...        NaN        NaN   \n1                                                NaN        NaN        NaN   \n2                                                DB군       상용제품        식품명   \n3                                                 음식       품목대표       꿩불고기   \n4                                                 음식       품목대표        닭갈비   \n\n  Unnamed: 6 Unnamed: 7 Unnamed: 8 Unnamed: 9  ... Unnamed: 225 Unnamed: 226  \\\n0        NaN        NaN        NaN        NaN  ...          NaN          NaN   \n1        NaN        NaN        NaN        NaN  ...          NaN          NaN   \n2         연도   지역 / 제조사       채취시기      식품대분류  ...   냉산가용성물질(㎎)  총 불포화지방산(g)   \n3       2019         충주         평균        구이류  ...            0            0   \n4       2019     전국(대표)         평균        구이류  ...            0            0   \n\n  Unnamed: 227 Unnamed: 228 Unnamed: 229 Unnamed: 230 Unnamed: 231  \\\n0          NaN          NaN          NaN          NaN          NaN   \n1          NaN          NaN          NaN          NaN          NaN   \n2     식염상당량(g)        회분(g)       폐기율(%)       가식부(%)    산가용성물질(%)   \n3            0          5.8            0            0            0   \n4            0            7            0            0            0   \n\n  Unnamed: 232  Unnamed: 233 Unnamed: 234  \n0          NaN           NaN          NaN  \n1          NaN           NaN          NaN  \n2       카페인(㎎)         성분표출처         발행기관  \n3            0  식약처('16) 제4권     식품의약품안전처  \n4            0  식약처('16) 제4권     식품의약품안전처  \n\n[5 rows x 235 columns]",
      "text/html": "<div>\n<style scoped>\n    .dataframe tbody tr th:only-of-type {\n        vertical-align: middle;\n    }\n\n    .dataframe tbody tr th {\n        vertical-align: top;\n    }\n\n    .dataframe thead th {\n        text-align: right;\n    }\n</style>\n<table border=\"1\" class=\"dataframe\">\n  <thead>\n    <tr style=\"text-align: right;\">\n      <th></th>\n      <th>Unnamed: 0</th>\n      <th>Unnamed: 1</th>\n      <th>Unnamed: 2</th>\n      <th>Unnamed: 3</th>\n      <th>Unnamed: 4</th>\n      <th>Unnamed: 5</th>\n      <th>Unnamed: 6</th>\n      <th>Unnamed: 7</th>\n      <th>Unnamed: 8</th>\n      <th>Unnamed: 9</th>\n      <th>...</th>\n      <th>Unnamed: 225</th>\n      <th>Unnamed: 226</th>\n      <th>Unnamed: 227</th>\n      <th>Unnamed: 228</th>\n      <th>Unnamed: 229</th>\n      <th>Unnamed: 230</th>\n      <th>Unnamed: 231</th>\n      <th>Unnamed: 232</th>\n      <th>Unnamed: 233</th>\n      <th>Unnamed: 234</th>\n    </tr>\n  </thead>\n  <tbody>\n    <tr>\n      <th>0</th>\n      <td>최종 DB 업데이트 일 : 2021-03-10</td>\n      <td>NaN</td>\n      <td>NaN</td>\n      <td>● 이 파일은 통계용으로 사용하기 위한 것으로, 기존 \"-\"값이 \"0\"으로 변환된 ...</td>\n      <td>NaN</td>\n      <td>NaN</td>\n      <td>NaN</td>\n      <td>NaN</td>\n      <td>NaN</td>\n      <td>NaN</td>\n      <td>...</td>\n      <td>NaN</td>\n      <td>NaN</td>\n      <td>NaN</td>\n      <td>NaN</td>\n      <td>NaN</td>\n      <td>NaN</td>\n      <td>NaN</td>\n      <td>NaN</td>\n      <td>NaN</td>\n      <td>NaN</td>\n    </tr>\n    <tr>\n      <th>1</th>\n      <td>NaN</td>\n      <td>NaN</td>\n      <td>NaN</td>\n      <td>NaN</td>\n      <td>NaN</td>\n      <td>NaN</td>\n      <td>NaN</td>\n      <td>NaN</td>\n      <td>NaN</td>\n      <td>NaN</td>\n      <td>...</td>\n      <td>NaN</td>\n      <td>NaN</td>\n      <td>NaN</td>\n      <td>NaN</td>\n      <td>NaN</td>\n      <td>NaN</td>\n      <td>NaN</td>\n      <td>NaN</td>\n      <td>NaN</td>\n      <td>NaN</td>\n    </tr>\n    <tr>\n      <th>2</th>\n      <td>NO</td>\n      <td>SAMPLE_ID</td>\n      <td>식품코드</td>\n      <td>DB군</td>\n      <td>상용제품</td>\n      <td>식품명</td>\n      <td>연도</td>\n      <td>지역 / 제조사</td>\n      <td>채취시기</td>\n      <td>식품대분류</td>\n      <td>...</td>\n      <td>냉산가용성물질(㎎)</td>\n      <td>총 불포화지방산(g)</td>\n      <td>식염상당량(g)</td>\n      <td>회분(g)</td>\n      <td>폐기율(%)</td>\n      <td>가식부(%)</td>\n      <td>산가용성물질(%)</td>\n      <td>카페인(㎎)</td>\n      <td>성분표출처</td>\n      <td>발행기관</td>\n    </tr>\n    <tr>\n      <th>3</th>\n      <td>1</td>\n      <td>D000006-94-AVG</td>\n      <td>D000006</td>\n      <td>음식</td>\n      <td>품목대표</td>\n      <td>꿩불고기</td>\n      <td>2019</td>\n      <td>충주</td>\n      <td>평균</td>\n      <td>구이류</td>\n      <td>...</td>\n      <td>0</td>\n      <td>0</td>\n      <td>0</td>\n      <td>5.8</td>\n      <td>0</td>\n      <td>0</td>\n      <td>0</td>\n      <td>0</td>\n      <td>식약처('16) 제4권</td>\n      <td>식품의약품안전처</td>\n    </tr>\n    <tr>\n      <th>4</th>\n      <td>2</td>\n      <td>D000007-ZZ-AVG</td>\n      <td>D000007</td>\n      <td>음식</td>\n      <td>품목대표</td>\n      <td>닭갈비</td>\n      <td>2019</td>\n      <td>전국(대표)</td>\n      <td>평균</td>\n      <td>구이류</td>\n      <td>...</td>\n      <td>0</td>\n      <td>0</td>\n      <td>0</td>\n      <td>7</td>\n      <td>0</td>\n      <td>0</td>\n      <td>0</td>\n      <td>0</td>\n      <td>식약처('16) 제4권</td>\n      <td>식품의약품안전처</td>\n    </tr>\n  </tbody>\n</table>\n<p>5 rows × 235 columns</p>\n</div>"
     },
     "execution_count": 4,
     "metadata": {},
     "output_type": "execute_result"
    }
   ],
   "source": [
    "raw_df.head()"
   ],
   "metadata": {
    "collapsed": false,
    "ExecuteTime": {
     "end_time": "2024-05-31T18:34:06.213892Z",
     "start_time": "2024-05-31T18:34:06.174918Z"
    }
   },
   "id": "60a1b157fc0e24e",
   "execution_count": 4
  },
  {
   "cell_type": "code",
   "outputs": [],
   "source": [
    "raw_df.columns = raw_df.iloc[2, :]\n",
    "raw_df = raw_df.iloc[3:, :]\n",
    "raw_df.set_index('NO', inplace=True)"
   ],
   "metadata": {
    "collapsed": false,
    "ExecuteTime": {
     "end_time": "2024-05-31T18:34:06.321446Z",
     "start_time": "2024-05-31T18:34:06.216099Z"
    }
   },
   "id": "160ca4722aad9982",
   "execution_count": 5
  },
  {
   "cell_type": "markdown",
   "source": [
    "# Extract features"
   ],
   "metadata": {
    "collapsed": false
   },
   "id": "3c885118b27514ba"
  },
  {
   "cell_type": "code",
   "outputs": [],
   "source": [
    "df: DataFrame = raw_df.iloc[:, [1, 2, 3, 4, 6, 8, 9, 14, 18, 19, 20, 21, 44]]\n",
    "df.columns = ['code', 'type', 'prod', 'name', 'manuf', 'cate_big', 'cate_specific', 'kcal', 'prot', 'fat', 'carb',\n",
    "              'sugar', 'nat']"
   ],
   "metadata": {
    "collapsed": false,
    "ExecuteTime": {
     "end_time": "2024-05-31T18:34:06.339882Z",
     "start_time": "2024-05-31T18:34:06.323747Z"
    }
   },
   "id": "31d8a3042e51c779",
   "execution_count": 6
  },
  {
   "cell_type": "code",
   "outputs": [
    {
     "data": {
      "text/plain": "       code type  prod  name   manuf cate_big cate_specific     kcal    prot  \\\nNO                                                                             \n1   D000006   음식  품목대표  꿩불고기      충주      구이류          육류구이    368.8    33.5   \n2   D000007   음식  품목대표   닭갈비  전국(대표)      구이류          육류구이   595.61    45.9   \n3   D000008   음식  품목대표   닭갈비      춘천      구이류          육류구이   558.47    45.5   \n4   D000009   음식  품목대표   닭꼬치  전국(대표)      구이류          육류구이  176.723  11.562   \n5   D000010   음식  품목대표  더덕구이  전국(대표)      구이류         채소류구이      184     3.1   \n\n      fat    carb  sugar      nat  \nNO                                 \n1     8.5    39.7   16.9  1264.31  \n2    25.8    44.9   21.2  1535.83  \n3    31.6    23.1    8.5  1016.94  \n4   8.565  13.348  3.152  286.911  \n5     5.2    31.1   11.6   743.37  ",
      "text/html": "<div>\n<style scoped>\n    .dataframe tbody tr th:only-of-type {\n        vertical-align: middle;\n    }\n\n    .dataframe tbody tr th {\n        vertical-align: top;\n    }\n\n    .dataframe thead th {\n        text-align: right;\n    }\n</style>\n<table border=\"1\" class=\"dataframe\">\n  <thead>\n    <tr style=\"text-align: right;\">\n      <th></th>\n      <th>code</th>\n      <th>type</th>\n      <th>prod</th>\n      <th>name</th>\n      <th>manuf</th>\n      <th>cate_big</th>\n      <th>cate_specific</th>\n      <th>kcal</th>\n      <th>prot</th>\n      <th>fat</th>\n      <th>carb</th>\n      <th>sugar</th>\n      <th>nat</th>\n    </tr>\n    <tr>\n      <th>NO</th>\n      <th></th>\n      <th></th>\n      <th></th>\n      <th></th>\n      <th></th>\n      <th></th>\n      <th></th>\n      <th></th>\n      <th></th>\n      <th></th>\n      <th></th>\n      <th></th>\n      <th></th>\n    </tr>\n  </thead>\n  <tbody>\n    <tr>\n      <th>1</th>\n      <td>D000006</td>\n      <td>음식</td>\n      <td>품목대표</td>\n      <td>꿩불고기</td>\n      <td>충주</td>\n      <td>구이류</td>\n      <td>육류구이</td>\n      <td>368.8</td>\n      <td>33.5</td>\n      <td>8.5</td>\n      <td>39.7</td>\n      <td>16.9</td>\n      <td>1264.31</td>\n    </tr>\n    <tr>\n      <th>2</th>\n      <td>D000007</td>\n      <td>음식</td>\n      <td>품목대표</td>\n      <td>닭갈비</td>\n      <td>전국(대표)</td>\n      <td>구이류</td>\n      <td>육류구이</td>\n      <td>595.61</td>\n      <td>45.9</td>\n      <td>25.8</td>\n      <td>44.9</td>\n      <td>21.2</td>\n      <td>1535.83</td>\n    </tr>\n    <tr>\n      <th>3</th>\n      <td>D000008</td>\n      <td>음식</td>\n      <td>품목대표</td>\n      <td>닭갈비</td>\n      <td>춘천</td>\n      <td>구이류</td>\n      <td>육류구이</td>\n      <td>558.47</td>\n      <td>45.5</td>\n      <td>31.6</td>\n      <td>23.1</td>\n      <td>8.5</td>\n      <td>1016.94</td>\n    </tr>\n    <tr>\n      <th>4</th>\n      <td>D000009</td>\n      <td>음식</td>\n      <td>품목대표</td>\n      <td>닭꼬치</td>\n      <td>전국(대표)</td>\n      <td>구이류</td>\n      <td>육류구이</td>\n      <td>176.723</td>\n      <td>11.562</td>\n      <td>8.565</td>\n      <td>13.348</td>\n      <td>3.152</td>\n      <td>286.911</td>\n    </tr>\n    <tr>\n      <th>5</th>\n      <td>D000010</td>\n      <td>음식</td>\n      <td>품목대표</td>\n      <td>더덕구이</td>\n      <td>전국(대표)</td>\n      <td>구이류</td>\n      <td>채소류구이</td>\n      <td>184</td>\n      <td>3.1</td>\n      <td>5.2</td>\n      <td>31.1</td>\n      <td>11.6</td>\n      <td>743.37</td>\n    </tr>\n  </tbody>\n</table>\n</div>"
     },
     "execution_count": 7,
     "metadata": {},
     "output_type": "execute_result"
    }
   ],
   "source": [
    "df.head()"
   ],
   "metadata": {
    "collapsed": false,
    "ExecuteTime": {
     "end_time": "2024-05-31T18:34:06.362365Z",
     "start_time": "2024-05-31T18:34:06.342128Z"
    }
   },
   "id": "b82c6808c65df6e0",
   "execution_count": 7
  },
  {
   "cell_type": "code",
   "outputs": [
    {
     "name": "stdout",
     "output_type": "stream",
     "text": [
      "<class 'pandas.core.frame.DataFrame'>\n",
      "Int64Index: 52940 entries, 1 to 52940\n",
      "Data columns (total 13 columns):\n",
      " #   Column         Non-Null Count  Dtype \n",
      "---  ------         --------------  ----- \n",
      " 0   code           52940 non-null  object\n",
      " 1   type           52940 non-null  object\n",
      " 2   prod           52940 non-null  object\n",
      " 3   name           52940 non-null  object\n",
      " 4   manuf          52938 non-null  object\n",
      " 5   cate_big       52940 non-null  object\n",
      " 6   cate_specific  52940 non-null  object\n",
      " 7   kcal           52940 non-null  object\n",
      " 8   prot           52940 non-null  object\n",
      " 9   fat            52940 non-null  object\n",
      " 10  carb           52940 non-null  object\n",
      " 11  sugar          52940 non-null  object\n",
      " 12  nat            52940 non-null  object\n",
      "dtypes: object(13)\n",
      "memory usage: 5.7+ MB\n"
     ]
    }
   ],
   "source": [
    "df.info()"
   ],
   "metadata": {
    "collapsed": false,
    "ExecuteTime": {
     "end_time": "2024-05-31T18:34:06.413289Z",
     "start_time": "2024-05-31T18:34:06.368377Z"
    }
   },
   "id": "b7838909197d3aa7",
   "execution_count": 8
  },
  {
   "cell_type": "code",
   "outputs": [
    {
     "name": "stdout",
     "output_type": "stream",
     "text": [
      "           kcal     prot      fat     carb    sugar      nat\n",
      "count   52940.0  52940.0  52940.0  52940.0  52940.0  52940.0\n",
      "unique   5823.0   2253.0   2148.0   3954.0   2662.0   7037.0\n",
      "top         0.0      0.0      0.0      0.0      0.0      0.0\n",
      "freq     1305.0   9928.0  17345.0  10784.0   9452.0   6778.0\n",
      "\n",
      "kcal     0.0\n",
      "prot     0.0\n",
      "fat      0.0\n",
      "carb     0.0\n",
      "sugar    0.0\n",
      "nat      0.0\n",
      "dtype: float64\n",
      "\n",
      "kcal     86395.0\n",
      "prot       600.0\n",
      "fat      26374.0\n",
      "carb     20999.0\n",
      "sugar    16200.0\n",
      "nat      40626.0\n",
      "dtype: float64\n"
     ]
    }
   ],
   "source": [
    "print(df.iloc[:, 7:].describe(), end='\\n\\n')\n",
    "print(df.iloc[:, 7:].min(), end='\\n\\n')\n",
    "print(df.iloc[:, 7:].max(), end='\\n\\n')\n",
    "# Referring the documentation, they said that they had indicated missing value as -99. but minimum values are all 0. so there isn't any missing value. And it's so good."
   ],
   "metadata": {
    "collapsed": false,
    "ExecuteTime": {
     "end_time": "2024-05-31T18:34:06.609704Z",
     "start_time": "2024-05-31T18:34:06.416639Z"
    }
   },
   "id": "69c3506fa5aa2ad0",
   "execution_count": 9
  },
  {
   "cell_type": "code",
   "outputs": [
    {
     "data": {
      "text/plain": "code             52328\ntype                 4\nprod                 3\nname             44471\nmanuf             3952\ncate_big           179\ncate_specific      299\nkcal              5823\nprot              2253\nfat               2148\ncarb              3954\nsugar             2662\nnat               7037\ndtype: int64"
     },
     "execution_count": 10,
     "metadata": {},
     "output_type": "execute_result"
    }
   ],
   "source": [
    "df.nunique()"
   ],
   "metadata": {
    "collapsed": false,
    "ExecuteTime": {
     "end_time": "2024-05-31T18:34:06.707168Z",
     "start_time": "2024-05-31T18:34:06.611956Z"
    }
   },
   "id": "422c185fd5f28ea7",
   "execution_count": 10
  },
  {
   "cell_type": "markdown",
   "source": [
    "# Extract specific categories"
   ],
   "metadata": {
    "collapsed": false
   },
   "id": "6d864cc39466fabd"
  },
  {
   "cell_type": "code",
   "outputs": [
    {
     "data": {
      "text/plain": "         code type  prod  name      manuf cate_big cate_specific     kcal  \\\nNO                                                                          \n1     D000006   음식  품목대표  꿩불고기         충주      구이류          육류구이    368.8   \n2     D000007   음식  품목대표   닭갈비     전국(대표)      구이류          육류구이   595.61   \n4     D000009   음식  품목대표   닭꼬치     전국(대표)      구이류          육류구이  176.723   \n7     D000012   음식  품목대표  돼지갈비  서울특별시 마포구      구이류          육류구이   240.32   \n9     D000016   음식  품목대표   불고기         광양      구이류          육류구이   395.29   \n...       ...  ...   ...   ...        ...      ...           ...      ...   \n251   D000426   음식  품목대표   해물찜     전국(대표)       찜류          어패류찜   400.08   \n279   D000473   음식  품목대표  생선까스     전국(대표)      튀김류         어패류튀김  653.441   \n6963  D018177   음식  품목대표   월남쌈     전국(대표)       기타            기타      293   \n7033  D018247   음식  품목대표  낙지볶음     전국(대표)      볶음류         어패류볶음      182   \n7310  D018524   음식  품목대표  코다리찜     전국(대표)       찜류          어패류찜      188   \n\n        prot     fat    carb  sugar      nat  \nNO                                            \n1       33.5     8.5    39.7   16.9  1264.31  \n2       45.9    25.8    44.9   21.2  1535.83  \n4     11.562   8.565  13.348  3.152  286.911  \n7       19.5    14.4     8.1    4.5   404.66  \n9       34.4    25.2     7.8    7.9   560.71  \n...      ...     ...     ...    ...      ...  \n251     42.6     9.8    35.4    5.5  2137.21  \n279   24.334  41.096   46.56  1.958  788.623  \n6963    14.9    12.4    30.6   13.7   574.48  \n7033    11.5     7.5    17.2   15.8  1074.86  \n7310      29     2.7    12.2      5  1240.64  \n\n[404 rows x 13 columns]",
      "text/html": "<div>\n<style scoped>\n    .dataframe tbody tr th:only-of-type {\n        vertical-align: middle;\n    }\n\n    .dataframe tbody tr th {\n        vertical-align: top;\n    }\n\n    .dataframe thead th {\n        text-align: right;\n    }\n</style>\n<table border=\"1\" class=\"dataframe\">\n  <thead>\n    <tr style=\"text-align: right;\">\n      <th></th>\n      <th>code</th>\n      <th>type</th>\n      <th>prod</th>\n      <th>name</th>\n      <th>manuf</th>\n      <th>cate_big</th>\n      <th>cate_specific</th>\n      <th>kcal</th>\n      <th>prot</th>\n      <th>fat</th>\n      <th>carb</th>\n      <th>sugar</th>\n      <th>nat</th>\n    </tr>\n    <tr>\n      <th>NO</th>\n      <th></th>\n      <th></th>\n      <th></th>\n      <th></th>\n      <th></th>\n      <th></th>\n      <th></th>\n      <th></th>\n      <th></th>\n      <th></th>\n      <th></th>\n      <th></th>\n      <th></th>\n    </tr>\n  </thead>\n  <tbody>\n    <tr>\n      <th>1</th>\n      <td>D000006</td>\n      <td>음식</td>\n      <td>품목대표</td>\n      <td>꿩불고기</td>\n      <td>충주</td>\n      <td>구이류</td>\n      <td>육류구이</td>\n      <td>368.8</td>\n      <td>33.5</td>\n      <td>8.5</td>\n      <td>39.7</td>\n      <td>16.9</td>\n      <td>1264.31</td>\n    </tr>\n    <tr>\n      <th>2</th>\n      <td>D000007</td>\n      <td>음식</td>\n      <td>품목대표</td>\n      <td>닭갈비</td>\n      <td>전국(대표)</td>\n      <td>구이류</td>\n      <td>육류구이</td>\n      <td>595.61</td>\n      <td>45.9</td>\n      <td>25.8</td>\n      <td>44.9</td>\n      <td>21.2</td>\n      <td>1535.83</td>\n    </tr>\n    <tr>\n      <th>4</th>\n      <td>D000009</td>\n      <td>음식</td>\n      <td>품목대표</td>\n      <td>닭꼬치</td>\n      <td>전국(대표)</td>\n      <td>구이류</td>\n      <td>육류구이</td>\n      <td>176.723</td>\n      <td>11.562</td>\n      <td>8.565</td>\n      <td>13.348</td>\n      <td>3.152</td>\n      <td>286.911</td>\n    </tr>\n    <tr>\n      <th>7</th>\n      <td>D000012</td>\n      <td>음식</td>\n      <td>품목대표</td>\n      <td>돼지갈비</td>\n      <td>서울특별시 마포구</td>\n      <td>구이류</td>\n      <td>육류구이</td>\n      <td>240.32</td>\n      <td>19.5</td>\n      <td>14.4</td>\n      <td>8.1</td>\n      <td>4.5</td>\n      <td>404.66</td>\n    </tr>\n    <tr>\n      <th>9</th>\n      <td>D000016</td>\n      <td>음식</td>\n      <td>품목대표</td>\n      <td>불고기</td>\n      <td>광양</td>\n      <td>구이류</td>\n      <td>육류구이</td>\n      <td>395.29</td>\n      <td>34.4</td>\n      <td>25.2</td>\n      <td>7.8</td>\n      <td>7.9</td>\n      <td>560.71</td>\n    </tr>\n    <tr>\n      <th>...</th>\n      <td>...</td>\n      <td>...</td>\n      <td>...</td>\n      <td>...</td>\n      <td>...</td>\n      <td>...</td>\n      <td>...</td>\n      <td>...</td>\n      <td>...</td>\n      <td>...</td>\n      <td>...</td>\n      <td>...</td>\n      <td>...</td>\n    </tr>\n    <tr>\n      <th>251</th>\n      <td>D000426</td>\n      <td>음식</td>\n      <td>품목대표</td>\n      <td>해물찜</td>\n      <td>전국(대표)</td>\n      <td>찜류</td>\n      <td>어패류찜</td>\n      <td>400.08</td>\n      <td>42.6</td>\n      <td>9.8</td>\n      <td>35.4</td>\n      <td>5.5</td>\n      <td>2137.21</td>\n    </tr>\n    <tr>\n      <th>279</th>\n      <td>D000473</td>\n      <td>음식</td>\n      <td>품목대표</td>\n      <td>생선까스</td>\n      <td>전국(대표)</td>\n      <td>튀김류</td>\n      <td>어패류튀김</td>\n      <td>653.441</td>\n      <td>24.334</td>\n      <td>41.096</td>\n      <td>46.56</td>\n      <td>1.958</td>\n      <td>788.623</td>\n    </tr>\n    <tr>\n      <th>6963</th>\n      <td>D018177</td>\n      <td>음식</td>\n      <td>품목대표</td>\n      <td>월남쌈</td>\n      <td>전국(대표)</td>\n      <td>기타</td>\n      <td>기타</td>\n      <td>293</td>\n      <td>14.9</td>\n      <td>12.4</td>\n      <td>30.6</td>\n      <td>13.7</td>\n      <td>574.48</td>\n    </tr>\n    <tr>\n      <th>7033</th>\n      <td>D018247</td>\n      <td>음식</td>\n      <td>품목대표</td>\n      <td>낙지볶음</td>\n      <td>전국(대표)</td>\n      <td>볶음류</td>\n      <td>어패류볶음</td>\n      <td>182</td>\n      <td>11.5</td>\n      <td>7.5</td>\n      <td>17.2</td>\n      <td>15.8</td>\n      <td>1074.86</td>\n    </tr>\n    <tr>\n      <th>7310</th>\n      <td>D018524</td>\n      <td>음식</td>\n      <td>품목대표</td>\n      <td>코다리찜</td>\n      <td>전국(대표)</td>\n      <td>찜류</td>\n      <td>어패류찜</td>\n      <td>188</td>\n      <td>29</td>\n      <td>2.7</td>\n      <td>12.2</td>\n      <td>5</td>\n      <td>1240.64</td>\n    </tr>\n  </tbody>\n</table>\n<p>404 rows × 13 columns</p>\n</div>"
     },
     "execution_count": 12,
     "metadata": {},
     "output_type": "execute_result"
    }
   ],
   "source": [
    "name_only = df.name.str.contains('\\(').apply(lambda x: not x)\n",
    "\n",
    "meals_df = df[name_only & df.cate_big.isin(\n",
    "    ['구이류', '국 및 탕류', '볶음류', '기타', '튀김류', '회류', '찌개 및 전골류', '찜류', '면 및 만두류', '밥류',\n",
    "     '죽 및 스프류'])]  # 전.적 및 부침류(파전)\n",
    "breads_df = df[name_only & df.cate_big.isin(['즉석섭취식품', '빵류', '시리얼류', '신선편의식품'])]\n",
    "# desserts_df = df[name_only & df.cate_big.isin(['아이스크림류', '음료 및 차류', '빵류', '곡류 및 서류'])]\n",
    "\n",
    "# meals\n",
    "meals_unique = meals_df[\n",
    "    meals_df.name.duplicated(keep=False).apply(lambda x: not x) | meals_df.name.duplicated(keep=False) & (\n",
    "                meals_df.type == '음식') & (meals_df.manuf == '전국(대표)')]  # remove duplicates\n",
    "exclude_specif = ['쌀밥.잡곡밥류', '어패류구이', '채소류구이', '채소류볶음', '어패류볶음', '기타', '어패류찜', '채소류튀김', '어패류튀김', '기타 튀김류', '채소류찜', '기타 찜류',\n",
    "           '만두류']  # 어패류볶음(주꾸미볶음, 낙지볶음), 기타(월남쌈), 어패류찜(해물찜, 코다리찜, 오징어순대), 어패류튀김(생선까스)\n",
    "manuf = ['충주', '전국(대표)', '서울특별시 마포구', '광양', '고흥', '수원', '기장', '태안', '삼척', '장흥', '괴산', '대전', '포항', '속초', '강릉', '정선',\n",
    "         '안성', '밀양', '거제', '영주', '산청', '부안', '영동', '대구광역시 중구', '광주', '안동', '영암', '순천']\n",
    "\n",
    "meals = meals_unique[meals_unique.cate_specific.isin(exclude_specif).apply(lambda x: not x) & meals_unique.manuf.isin(manuf)]\n",
    "meals = meals[meals.name.str.contains('삼각김밥').apply(lambda x: not x)]\n",
    "\n",
    "# breads\n",
    "breads_unique = breads_df[\n",
    "    breads_df.name.duplicated(keep=False).apply(lambda x: not x) | breads_df.name.duplicated(keep=False)]  # remove duplicates\n",
    "exclude_specif = ['앙금빵류', '기타 빵류', '크림빵류', '케이크류', '페이스트리류', '식빵류', '튀김빵류(도넛, 꽈배기 등)']\n",
    "manuf = ['전국(대표)']\n",
    "\n",
    "breads = breads_unique[\n",
    "    breads_unique.cate_specific.isin(exclude_specif).apply(lambda x: not x) & breads_unique.manuf.isin(manuf)]\n",
    "\n",
    "# concat\n",
    "menus = pd.concat([meals, breads])\n",
    "\n",
    "# add inappropriately excepted datas\n",
    "menu_names = ['파전', '주꾸미볶음', '낙지볶음', '월남쌈', '해물찜', '코다리찜', '오징어순대', '생선까스']\n",
    "excepted = meals_df[meals_df.name.isin(menu_names)]\n",
    "\n",
    "menus = pd.concat([menus, excepted])\n",
    "\n",
    "menus"
   ],
   "metadata": {
    "collapsed": false,
    "ExecuteTime": {
     "end_time": "2024-05-31T18:34:06.821206Z",
     "start_time": "2024-05-31T18:34:06.759781Z"
    }
   },
   "id": "f0e8338011c7240b",
   "execution_count": 12
  },
  {
   "cell_type": "code",
   "outputs": [
    {
     "data": {
      "text/plain": "         code type  prod   name   manuf cate_big cate_specific kcal  prot  \\\nNO                                                                          \n7001  D018215   음식  품목대표  오므라이스  전국(대표)       밥류          볶음밥류  692    26   \n7019  D018233   음식  품목대표  카레라이스  전국(대표)       밥류           덮밥류  518  14.9   \n7024  D018238   음식  품목대표  하이라이스  전국(대표)       밥류           덮밥류  401  14.5   \n\n       fat  carb sugar      nat  \nNO                               \n7001  28.9  82.1  12.8  1730.11  \n7019   6.7  99.5   0.8  1007.05  \n7024   4.1  76.8     0   884.09  ",
      "text/html": "<div>\n<style scoped>\n    .dataframe tbody tr th:only-of-type {\n        vertical-align: middle;\n    }\n\n    .dataframe tbody tr th {\n        vertical-align: top;\n    }\n\n    .dataframe thead th {\n        text-align: right;\n    }\n</style>\n<table border=\"1\" class=\"dataframe\">\n  <thead>\n    <tr style=\"text-align: right;\">\n      <th></th>\n      <th>code</th>\n      <th>type</th>\n      <th>prod</th>\n      <th>name</th>\n      <th>manuf</th>\n      <th>cate_big</th>\n      <th>cate_specific</th>\n      <th>kcal</th>\n      <th>prot</th>\n      <th>fat</th>\n      <th>carb</th>\n      <th>sugar</th>\n      <th>nat</th>\n    </tr>\n    <tr>\n      <th>NO</th>\n      <th></th>\n      <th></th>\n      <th></th>\n      <th></th>\n      <th></th>\n      <th></th>\n      <th></th>\n      <th></th>\n      <th></th>\n      <th></th>\n      <th></th>\n      <th></th>\n      <th></th>\n    </tr>\n  </thead>\n  <tbody>\n    <tr>\n      <th>7001</th>\n      <td>D018215</td>\n      <td>음식</td>\n      <td>품목대표</td>\n      <td>오므라이스</td>\n      <td>전국(대표)</td>\n      <td>밥류</td>\n      <td>볶음밥류</td>\n      <td>692</td>\n      <td>26</td>\n      <td>28.9</td>\n      <td>82.1</td>\n      <td>12.8</td>\n      <td>1730.11</td>\n    </tr>\n    <tr>\n      <th>7019</th>\n      <td>D018233</td>\n      <td>음식</td>\n      <td>품목대표</td>\n      <td>카레라이스</td>\n      <td>전국(대표)</td>\n      <td>밥류</td>\n      <td>덮밥류</td>\n      <td>518</td>\n      <td>14.9</td>\n      <td>6.7</td>\n      <td>99.5</td>\n      <td>0.8</td>\n      <td>1007.05</td>\n    </tr>\n    <tr>\n      <th>7024</th>\n      <td>D018238</td>\n      <td>음식</td>\n      <td>품목대표</td>\n      <td>하이라이스</td>\n      <td>전국(대표)</td>\n      <td>밥류</td>\n      <td>덮밥류</td>\n      <td>401</td>\n      <td>14.5</td>\n      <td>4.1</td>\n      <td>76.8</td>\n      <td>0</td>\n      <td>884.09</td>\n    </tr>\n  </tbody>\n</table>\n</div>"
     },
     "execution_count": 13,
     "metadata": {},
     "output_type": "execute_result"
    }
   ],
   "source": [
    "# check result if it includes \"menu names or keywords\"\n",
    "menus[menus.name.astype(str).str.contains('라이스')]"
   ],
   "metadata": {
    "collapsed": false,
    "ExecuteTime": {
     "end_time": "2024-05-31T18:34:06.843794Z",
     "start_time": "2024-05-31T18:34:06.823603Z"
    }
   },
   "id": "13751d2338a400b9",
   "execution_count": 13
  },
  {
   "cell_type": "code",
   "outputs": [],
   "source": [
    "menus.to_excel('./datas/refined/refined.xlsx', index=False)"
   ],
   "metadata": {
    "collapsed": false,
    "ExecuteTime": {
     "end_time": "2024-05-31T18:34:07.190262Z",
     "start_time": "2024-05-31T18:34:06.846450Z"
    }
   },
   "id": "553f4e00490e9e5d",
   "execution_count": 14
  }
 ],
 "metadata": {
  "kernelspec": {
   "display_name": "Python 3",
   "language": "python",
   "name": "python3"
  },
  "language_info": {
   "codemirror_mode": {
    "name": "ipython",
    "version": 2
   },
   "file_extension": ".py",
   "mimetype": "text/x-python",
   "name": "python",
   "nbconvert_exporter": "python",
   "pygments_lexer": "ipython2",
   "version": "2.7.6"
  }
 },
 "nbformat": 4,
 "nbformat_minor": 5
}
