{
 "cells": [
  {
   "cell_type": "code",
   "execution_count": 53,
   "id": "initial_id",
   "metadata": {
    "collapsed": true,
    "ExecuteTime": {
     "end_time": "2024-06-05T10:38:40.623958Z",
     "start_time": "2024-06-05T10:38:40.604081Z"
    }
   },
   "outputs": [],
   "source": [
    "import dotenv\n",
    "from mysql import connector\n",
    "import pandas as pd\n",
    "import os"
   ]
  },
  {
   "cell_type": "code",
   "outputs": [
    {
     "data": {
      "text/plain": "True"
     },
     "execution_count": 54,
     "metadata": {},
     "output_type": "execute_result"
    }
   ],
   "source": [
    "dotenv.load_dotenv()"
   ],
   "metadata": {
    "collapsed": false,
    "ExecuteTime": {
     "end_time": "2024-06-05T10:38:41.079048Z",
     "start_time": "2024-06-05T10:38:41.064974Z"
    }
   },
   "id": "51afff694eed1c",
   "execution_count": 54
  },
  {
   "cell_type": "code",
   "outputs": [],
   "source": [
    "df = pd.read_excel('./datas/refined/refined.xlsx', engine='openpyxl')"
   ],
   "metadata": {
    "collapsed": false,
    "ExecuteTime": {
     "end_time": "2024-06-05T10:38:42.152286Z",
     "start_time": "2024-06-05T10:38:41.785328Z"
    }
   },
   "id": "f4af94054566bb1b",
   "execution_count": 55
  },
  {
   "cell_type": "code",
   "outputs": [],
   "source": [
    "host = os.getenv('HOST')\n",
    "scheme = os.getenv('SCHEME')\n",
    "user = os.getenv('MYSQL_USER')\n",
    "password = os.getenv('MYSQL_PASSWORD')\n",
    "\n",
    "conn = connector.connect(host=host, database=scheme, user=user, password=password)\n",
    "cursor = conn.cursor(prepared=True)\n",
    "\n",
    "nut_query = 'INSERT INTO nutrient (energy, carbohydrate, protein, fat, sugar, sodium) VALUES (%s, %s, %s, %s, %s, %s)'\n",
    "menu_query = 'INSERT INTO menu (name, code, nutrient_id) VALUES (%s, %s, %s)'"
   ],
   "metadata": {
    "collapsed": false,
    "ExecuteTime": {
     "end_time": "2024-06-05T10:38:42.321936Z",
     "start_time": "2024-06-05T10:38:42.251863Z"
    }
   },
   "id": "2d526ee708a2fe95",
   "execution_count": 56
  },
  {
   "cell_type": "code",
   "outputs": [],
   "source": [
    "for data in df.values:\n",
    "    nut_data = tuple(data[7:])\n",
    "    cursor.execute(nut_query, nut_data)\n",
    "    \n",
    "    nutrient_id = cursor.lastrowid\n",
    "    \n",
    "    menu_data = (data[3], data[0], nutrient_id)\n",
    "    cursor.execute(menu_query, menu_data)\n",
    "    \n",
    "conn.commit()\n",
    "    "
   ],
   "metadata": {
    "collapsed": false,
    "ExecuteTime": {
     "end_time": "2024-06-05T10:38:45.406829Z",
     "start_time": "2024-06-05T10:38:44.518880Z"
    }
   },
   "id": "591f96eaf61cfa7a",
   "execution_count": 57
  },
  {
   "cell_type": "code",
   "outputs": [],
   "source": [
    "conn.close()"
   ],
   "metadata": {
    "collapsed": false,
    "ExecuteTime": {
     "end_time": "2024-06-05T10:39:18.807062Z",
     "start_time": "2024-06-05T10:39:18.801868Z"
    }
   },
   "id": "95c9d53ef49c37b5",
   "execution_count": 58
  },
  {
   "cell_type": "code",
   "outputs": [],
   "source": [],
   "metadata": {
    "collapsed": false
   },
   "id": "f926b58a1e557482"
  }
 ],
 "metadata": {
  "kernelspec": {
   "display_name": "Python 3",
   "language": "python",
   "name": "python3"
  },
  "language_info": {
   "codemirror_mode": {
    "name": "ipython",
    "version": 2
   },
   "file_extension": ".py",
   "mimetype": "text/x-python",
   "name": "python",
   "nbconvert_exporter": "python",
   "pygments_lexer": "ipython2",
   "version": "2.7.6"
  }
 },
 "nbformat": 4,
 "nbformat_minor": 5
}
